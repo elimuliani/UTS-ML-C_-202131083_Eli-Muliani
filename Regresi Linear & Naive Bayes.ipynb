{
 "cells": [
  {
   "cell_type": "markdown",
   "id": "aa7a0724",
   "metadata": {},
   "source": [
    "##### Melakukan Preprocessing terlebih dahulu sebelum digunakannya algoritma Regresi Linear"
   ]
  },
  {
   "cell_type": "code",
   "execution_count": 1,
   "id": "3eafdcf8",
   "metadata": {},
   "outputs": [],
   "source": [
    "import pandas as pd"
   ]
  },
  {
   "cell_type": "code",
   "execution_count": 2,
   "id": "cc05062a",
   "metadata": {},
   "outputs": [
    {
     "data": {
      "text/html": [
       "<div>\n",
       "<style scoped>\n",
       "    .dataframe tbody tr th:only-of-type {\n",
       "        vertical-align: middle;\n",
       "    }\n",
       "\n",
       "    .dataframe tbody tr th {\n",
       "        vertical-align: top;\n",
       "    }\n",
       "\n",
       "    .dataframe thead th {\n",
       "        text-align: right;\n",
       "    }\n",
       "</style>\n",
       "<table border=\"1\" class=\"dataframe\">\n",
       "  <thead>\n",
       "    <tr style=\"text-align: right;\">\n",
       "      <th></th>\n",
       "      <th>Study Hours (X)</th>\n",
       "      <th>Exam Scores (Y)</th>\n",
       "    </tr>\n",
       "  </thead>\n",
       "  <tbody>\n",
       "    <tr>\n",
       "      <th>0</th>\n",
       "      <td>1.5</td>\n",
       "      <td>60</td>\n",
       "    </tr>\n",
       "    <tr>\n",
       "      <th>1</th>\n",
       "      <td>2.0</td>\n",
       "      <td>65</td>\n",
       "    </tr>\n",
       "    <tr>\n",
       "      <th>2</th>\n",
       "      <td>2.5</td>\n",
       "      <td>73</td>\n",
       "    </tr>\n",
       "    <tr>\n",
       "      <th>3</th>\n",
       "      <td>3.0</td>\n",
       "      <td>75</td>\n",
       "    </tr>\n",
       "    <tr>\n",
       "      <th>4</th>\n",
       "      <td>2.0</td>\n",
       "      <td>62</td>\n",
       "    </tr>\n",
       "  </tbody>\n",
       "</table>\n",
       "</div>"
      ],
      "text/plain": [
       "   Study Hours (X)  Exam Scores (Y)\n",
       "0              1.5               60\n",
       "1              2.0               65\n",
       "2              2.5               73\n",
       "3              3.0               75\n",
       "4              2.0               62"
      ]
     },
     "execution_count": 2,
     "metadata": {},
     "output_type": "execute_result"
    }
   ],
   "source": [
    "#disini saya memberikan nama untuk dataset algoritma Regresi Linear yaitu data1\n",
    "data1 = pd.read_csv('R01_students_performance.csv') # untuk membaca datasetnya\n",
    "data1.head() # melihat 5 data pertama\n",
    "\n"
   ]
  },
  {
   "cell_type": "code",
   "execution_count": 3,
   "id": "a1cb19f5",
   "metadata": {},
   "outputs": [
    {
     "data": {
      "text/html": [
       "<div>\n",
       "<style scoped>\n",
       "    .dataframe tbody tr th:only-of-type {\n",
       "        vertical-align: middle;\n",
       "    }\n",
       "\n",
       "    .dataframe tbody tr th {\n",
       "        vertical-align: top;\n",
       "    }\n",
       "\n",
       "    .dataframe thead th {\n",
       "        text-align: right;\n",
       "    }\n",
       "</style>\n",
       "<table border=\"1\" class=\"dataframe\">\n",
       "  <thead>\n",
       "    <tr style=\"text-align: right;\">\n",
       "      <th></th>\n",
       "      <th>Study Hours (X)</th>\n",
       "      <th>Exam Scores (Y)</th>\n",
       "    </tr>\n",
       "  </thead>\n",
       "  <tbody>\n",
       "    <tr>\n",
       "      <th>45</th>\n",
       "      <td>3.0</td>\n",
       "      <td>78</td>\n",
       "    </tr>\n",
       "    <tr>\n",
       "      <th>46</th>\n",
       "      <td>1.8</td>\n",
       "      <td>68</td>\n",
       "    </tr>\n",
       "    <tr>\n",
       "      <th>47</th>\n",
       "      <td>4.5</td>\n",
       "      <td>91</td>\n",
       "    </tr>\n",
       "    <tr>\n",
       "      <th>48</th>\n",
       "      <td>3.3</td>\n",
       "      <td>70</td>\n",
       "    </tr>\n",
       "    <tr>\n",
       "      <th>49</th>\n",
       "      <td>2.2</td>\n",
       "      <td>76</td>\n",
       "    </tr>\n",
       "  </tbody>\n",
       "</table>\n",
       "</div>"
      ],
      "text/plain": [
       "    Study Hours (X)  Exam Scores (Y)\n",
       "45              3.0               78\n",
       "46              1.8               68\n",
       "47              4.5               91\n",
       "48              3.3               70\n",
       "49              2.2               76"
      ]
     },
     "execution_count": 3,
     "metadata": {},
     "output_type": "execute_result"
    }
   ],
   "source": [
    "# Data Prepocessing\n",
    "# Melihat 5 data terakhir\n",
    "data1.tail()\n"
   ]
  },
  {
   "cell_type": "code",
   "execution_count": 4,
   "id": "1309d665",
   "metadata": {},
   "outputs": [
    {
     "name": "stdout",
     "output_type": "stream",
     "text": [
      "<class 'pandas.core.frame.DataFrame'>\n",
      "RangeIndex: 50 entries, 0 to 49\n",
      "Data columns (total 2 columns):\n",
      " #   Column           Non-Null Count  Dtype  \n",
      "---  ------           --------------  -----  \n",
      " 0   Study Hours (X)  50 non-null     float64\n",
      " 1   Exam Scores (Y)  50 non-null     int64  \n",
      "dtypes: float64(1), int64(1)\n",
      "memory usage: 928.0 bytes\n"
     ]
    }
   ],
   "source": [
    "# untuk mengetahui informasi mengenai dataset yang sedang digunakan, seperti informasi tipe datanya, jumlah kolom,dll.\n",
    "data1.info() "
   ]
  },
  {
   "cell_type": "code",
   "execution_count": 5,
   "id": "c0805874",
   "metadata": {},
   "outputs": [
    {
     "data": {
      "text/plain": [
       "Study Hours (X)    0\n",
       "Exam Scores (Y)    0\n",
       "dtype: int64"
      ]
     },
     "execution_count": 5,
     "metadata": {},
     "output_type": "execute_result"
    }
   ],
   "source": [
    "# mengecek jumlah data yang terdapat nilai null disetiap kolom\n",
    "data1.isnull().sum()"
   ]
  },
  {
   "cell_type": "code",
   "execution_count": 6,
   "id": "6cb5eb99",
   "metadata": {},
   "outputs": [
    {
     "data": {
      "text/plain": [
       "Study Hours (X)    0\n",
       "Exam Scores (Y)    0\n",
       "dtype: int64"
      ]
     },
     "execution_count": 6,
     "metadata": {},
     "output_type": "execute_result"
    }
   ],
   "source": [
    "# menghapus data null\n",
    "data1 = data1.dropna()\n",
    "\n",
    "data1.isnull().sum()"
   ]
  },
  {
   "cell_type": "code",
   "execution_count": 7,
   "id": "165f2340",
   "metadata": {},
   "outputs": [
    {
     "data": {
      "text/html": [
       "<div>\n",
       "<style scoped>\n",
       "    .dataframe tbody tr th:only-of-type {\n",
       "        vertical-align: middle;\n",
       "    }\n",
       "\n",
       "    .dataframe tbody tr th {\n",
       "        vertical-align: top;\n",
       "    }\n",
       "\n",
       "    .dataframe thead th {\n",
       "        text-align: right;\n",
       "    }\n",
       "</style>\n",
       "<table border=\"1\" class=\"dataframe\">\n",
       "  <thead>\n",
       "    <tr style=\"text-align: right;\">\n",
       "      <th></th>\n",
       "      <th>Study Hours (X)</th>\n",
       "      <th>Exam Scores (Y)</th>\n",
       "    </tr>\n",
       "  </thead>\n",
       "  <tbody>\n",
       "    <tr>\n",
       "      <th>count</th>\n",
       "      <td>50.000000</td>\n",
       "      <td>50.000000</td>\n",
       "    </tr>\n",
       "    <tr>\n",
       "      <th>mean</th>\n",
       "      <td>3.006000</td>\n",
       "      <td>76.480000</td>\n",
       "    </tr>\n",
       "    <tr>\n",
       "      <th>std</th>\n",
       "      <td>0.860567</td>\n",
       "      <td>11.051346</td>\n",
       "    </tr>\n",
       "    <tr>\n",
       "      <th>min</th>\n",
       "      <td>1.500000</td>\n",
       "      <td>58.000000</td>\n",
       "    </tr>\n",
       "    <tr>\n",
       "      <th>25%</th>\n",
       "      <td>2.300000</td>\n",
       "      <td>68.000000</td>\n",
       "    </tr>\n",
       "    <tr>\n",
       "      <th>50%</th>\n",
       "      <td>3.000000</td>\n",
       "      <td>75.500000</td>\n",
       "    </tr>\n",
       "    <tr>\n",
       "      <th>75%</th>\n",
       "      <td>3.700000</td>\n",
       "      <td>86.500000</td>\n",
       "    </tr>\n",
       "    <tr>\n",
       "      <th>max</th>\n",
       "      <td>4.500000</td>\n",
       "      <td>95.000000</td>\n",
       "    </tr>\n",
       "  </tbody>\n",
       "</table>\n",
       "</div>"
      ],
      "text/plain": [
       "       Study Hours (X)  Exam Scores (Y)\n",
       "count        50.000000        50.000000\n",
       "mean          3.006000        76.480000\n",
       "std           0.860567        11.051346\n",
       "min           1.500000        58.000000\n",
       "25%           2.300000        68.000000\n",
       "50%           3.000000        75.500000\n",
       "75%           3.700000        86.500000\n",
       "max           4.500000        95.000000"
      ]
     },
     "execution_count": 7,
     "metadata": {},
     "output_type": "execute_result"
    }
   ],
   "source": [
    "# deskrpsi data\n",
    "data1.describe()"
   ]
  },
  {
   "cell_type": "markdown",
   "id": "a20457bc",
   "metadata": {},
   "source": [
    "## Regresi Linear"
   ]
  },
  {
   "cell_type": "markdown",
   "id": "6579e7e6",
   "metadata": {},
   "source": [
    "### Korelasi "
   ]
  },
  {
   "cell_type": "code",
   "execution_count": 8,
   "id": "62842e56",
   "metadata": {},
   "outputs": [
    {
     "data": {
      "text/html": [
       "<div>\n",
       "<style scoped>\n",
       "    .dataframe tbody tr th:only-of-type {\n",
       "        vertical-align: middle;\n",
       "    }\n",
       "\n",
       "    .dataframe tbody tr th {\n",
       "        vertical-align: top;\n",
       "    }\n",
       "\n",
       "    .dataframe thead th {\n",
       "        text-align: right;\n",
       "    }\n",
       "</style>\n",
       "<table border=\"1\" class=\"dataframe\">\n",
       "  <thead>\n",
       "    <tr style=\"text-align: right;\">\n",
       "      <th></th>\n",
       "      <th>Study Hours (X)</th>\n",
       "      <th>Exam Scores (Y)</th>\n",
       "    </tr>\n",
       "  </thead>\n",
       "  <tbody>\n",
       "    <tr>\n",
       "      <th>Study Hours (X)</th>\n",
       "      <td>1.000000</td>\n",
       "      <td>0.943875</td>\n",
       "    </tr>\n",
       "    <tr>\n",
       "      <th>Exam Scores (Y)</th>\n",
       "      <td>0.943875</td>\n",
       "      <td>1.000000</td>\n",
       "    </tr>\n",
       "  </tbody>\n",
       "</table>\n",
       "</div>"
      ],
      "text/plain": [
       "                 Study Hours (X)  Exam Scores (Y)\n",
       "Study Hours (X)         1.000000         0.943875\n",
       "Exam Scores (Y)         0.943875         1.000000"
      ]
     },
     "execution_count": 8,
     "metadata": {},
     "output_type": "execute_result"
    }
   ],
   "source": [
    "# menghitung korelasi antar kolom-kolom dalam DataFrame. Metode ini menghasilkan matriks korelasi, di mana setiap elemen (i, j) dalam matriks menyatakan korelasi antara kolom ke-i dan kolom ke-j.\n",
    "data1.corr()"
   ]
  },
  {
   "cell_type": "markdown",
   "id": "fafc096d",
   "metadata": {},
   "source": [
    "### Split Data"
   ]
  },
  {
   "cell_type": "code",
   "execution_count": 9,
   "id": "26df8405",
   "metadata": {},
   "outputs": [],
   "source": [
    "# Mengimpor NumPy dan memberikan alias 'np'\n",
    "# Mengambil kolom 'Study Hours(X)' dari DataFrame data1 dan mengonversinya menjadi array NumPy dengan bantuan .values. Penggunaan [:, np.newaxis] digunakan untuk menambahkan dimensi baru pada array,\n",
    "# Mengambil kolom 'Exam Scores(Y)' dari DataFrame data1 dan mengonversinya menjadi array NumPy.\n",
    "\n",
    "import numpy as np\n",
    "x_train1 = data1['Study Hours (X)'].values[:, np.newaxis]\n",
    "y_train1 = data1['Exam Scores (Y)'].values"
   ]
  },
  {
   "cell_type": "code",
   "execution_count": 10,
   "id": "fda81c90",
   "metadata": {},
   "outputs": [
    {
     "name": "stdout",
     "output_type": "stream",
     "text": [
      "[60 65 73 75 62 85 92 78 63 95 70 80 66 88 75 58 89 69 92 82 76 67 87 72\n",
      " 90 80 68 84 70 61 91 74 93 79 71 59 94 77 61 84 66 89 73 63 95 78 68 91\n",
      " 70 76]\n"
     ]
    }
   ],
   "source": [
    "# mencetak nilai-nilai dari array y_train1. Array ini berisi data dari kolom 'Exam Scores(Y)' yang diambil dari DataFrame data1.\n",
    "\n",
    "print(y_train1) "
   ]
  },
  {
   "cell_type": "code",
   "execution_count": 11,
   "id": "b1e690f4",
   "metadata": {},
   "outputs": [
    {
     "name": "stdout",
     "output_type": "stream",
     "text": [
      "[[1.5]\n",
      " [2. ]\n",
      " [2.5]\n",
      " [3. ]\n",
      " [2. ]\n",
      " [3.5]\n",
      " [4. ]\n",
      " [3. ]\n",
      " [1.8]\n",
      " [4.5]\n",
      " [2.7]\n",
      " [3.2]\n",
      " [2.1]\n",
      " [4. ]\n",
      " [2.9]\n",
      " [1.6]\n",
      " [3.8]\n",
      " [2.3]\n",
      " [4.2]\n",
      " [3.5]\n",
      " [3. ]\n",
      " [2.5]\n",
      " [3.7]\n",
      " [2.8]\n",
      " [4.1]\n",
      " [3.3]\n",
      " [2.4]\n",
      " [3.6]\n",
      " [2.2]\n",
      " [1.9]\n",
      " [3.9]\n",
      " [2.6]\n",
      " [4.3]\n",
      " [3.4]\n",
      " [2.7]\n",
      " [1.7]\n",
      " [4.4]\n",
      " [3.2]\n",
      " [2. ]\n",
      " [3.1]\n",
      " [2.3]\n",
      " [4. ]\n",
      " [3.7]\n",
      " [2.5]\n",
      " [4.1]\n",
      " [3. ]\n",
      " [1.8]\n",
      " [4.5]\n",
      " [3.3]\n",
      " [2.2]]\n"
     ]
    }
   ],
   "source": [
    "# mencetak nilai-nilai array x_train1 dari data kolom 'Study Hours (X)'\n",
    "\n",
    "print(x_train1)"
   ]
  },
  {
   "cell_type": "markdown",
   "id": "ec4a5ac5",
   "metadata": {},
   "source": [
    "### Modelling"
   ]
  },
  {
   "cell_type": "code",
   "execution_count": 12,
   "id": "46e4712a",
   "metadata": {},
   "outputs": [
    {
     "data": {
      "text/html": [
       "<style>#sk-container-id-1 {color: black;background-color: white;}#sk-container-id-1 pre{padding: 0;}#sk-container-id-1 div.sk-toggleable {background-color: white;}#sk-container-id-1 label.sk-toggleable__label {cursor: pointer;display: block;width: 100%;margin-bottom: 0;padding: 0.3em;box-sizing: border-box;text-align: center;}#sk-container-id-1 label.sk-toggleable__label-arrow:before {content: \"▸\";float: left;margin-right: 0.25em;color: #696969;}#sk-container-id-1 label.sk-toggleable__label-arrow:hover:before {color: black;}#sk-container-id-1 div.sk-estimator:hover label.sk-toggleable__label-arrow:before {color: black;}#sk-container-id-1 div.sk-toggleable__content {max-height: 0;max-width: 0;overflow: hidden;text-align: left;background-color: #f0f8ff;}#sk-container-id-1 div.sk-toggleable__content pre {margin: 0.2em;color: black;border-radius: 0.25em;background-color: #f0f8ff;}#sk-container-id-1 input.sk-toggleable__control:checked~div.sk-toggleable__content {max-height: 200px;max-width: 100%;overflow: auto;}#sk-container-id-1 input.sk-toggleable__control:checked~label.sk-toggleable__label-arrow:before {content: \"▾\";}#sk-container-id-1 div.sk-estimator input.sk-toggleable__control:checked~label.sk-toggleable__label {background-color: #d4ebff;}#sk-container-id-1 div.sk-label input.sk-toggleable__control:checked~label.sk-toggleable__label {background-color: #d4ebff;}#sk-container-id-1 input.sk-hidden--visually {border: 0;clip: rect(1px 1px 1px 1px);clip: rect(1px, 1px, 1px, 1px);height: 1px;margin: -1px;overflow: hidden;padding: 0;position: absolute;width: 1px;}#sk-container-id-1 div.sk-estimator {font-family: monospace;background-color: #f0f8ff;border: 1px dotted black;border-radius: 0.25em;box-sizing: border-box;margin-bottom: 0.5em;}#sk-container-id-1 div.sk-estimator:hover {background-color: #d4ebff;}#sk-container-id-1 div.sk-parallel-item::after {content: \"\";width: 100%;border-bottom: 1px solid gray;flex-grow: 1;}#sk-container-id-1 div.sk-label:hover label.sk-toggleable__label {background-color: #d4ebff;}#sk-container-id-1 div.sk-serial::before {content: \"\";position: absolute;border-left: 1px solid gray;box-sizing: border-box;top: 0;bottom: 0;left: 50%;z-index: 0;}#sk-container-id-1 div.sk-serial {display: flex;flex-direction: column;align-items: center;background-color: white;padding-right: 0.2em;padding-left: 0.2em;position: relative;}#sk-container-id-1 div.sk-item {position: relative;z-index: 1;}#sk-container-id-1 div.sk-parallel {display: flex;align-items: stretch;justify-content: center;background-color: white;position: relative;}#sk-container-id-1 div.sk-item::before, #sk-container-id-1 div.sk-parallel-item::before {content: \"\";position: absolute;border-left: 1px solid gray;box-sizing: border-box;top: 0;bottom: 0;left: 50%;z-index: -1;}#sk-container-id-1 div.sk-parallel-item {display: flex;flex-direction: column;z-index: 1;position: relative;background-color: white;}#sk-container-id-1 div.sk-parallel-item:first-child::after {align-self: flex-end;width: 50%;}#sk-container-id-1 div.sk-parallel-item:last-child::after {align-self: flex-start;width: 50%;}#sk-container-id-1 div.sk-parallel-item:only-child::after {width: 0;}#sk-container-id-1 div.sk-dashed-wrapped {border: 1px dashed gray;margin: 0 0.4em 0.5em 0.4em;box-sizing: border-box;padding-bottom: 0.4em;background-color: white;}#sk-container-id-1 div.sk-label label {font-family: monospace;font-weight: bold;display: inline-block;line-height: 1.2em;}#sk-container-id-1 div.sk-label-container {text-align: center;}#sk-container-id-1 div.sk-container {/* jupyter's `normalize.less` sets `[hidden] { display: none; }` but bootstrap.min.css set `[hidden] { display: none !important; }` so we also need the `!important` here to be able to override the default hidden behavior on the sphinx rendered scikit-learn.org. See: https://github.com/scikit-learn/scikit-learn/issues/21755 */display: inline-block !important;position: relative;}#sk-container-id-1 div.sk-text-repr-fallback {display: none;}</style><div id=\"sk-container-id-1\" class=\"sk-top-container\"><div class=\"sk-text-repr-fallback\"><pre>LinearRegression()</pre><b>In a Jupyter environment, please rerun this cell to show the HTML representation or trust the notebook. <br />On GitHub, the HTML representation is unable to render, please try loading this page with nbviewer.org.</b></div><div class=\"sk-container\" hidden><div class=\"sk-item\"><div class=\"sk-estimator sk-toggleable\"><input class=\"sk-toggleable__control sk-hidden--visually\" id=\"sk-estimator-id-1\" type=\"checkbox\" checked><label for=\"sk-estimator-id-1\" class=\"sk-toggleable__label sk-toggleable__label-arrow\">LinearRegression</label><div class=\"sk-toggleable__content\"><pre>LinearRegression()</pre></div></div></div></div></div>"
      ],
      "text/plain": [
       "LinearRegression()"
      ]
     },
     "execution_count": 12,
     "metadata": {},
     "output_type": "execute_result"
    }
   ],
   "source": [
    "# Digunakan untuk membuat dan melatih model regresi linear menggunakan pustaka scikit-learn (sklearn)\n",
    "# Baris pertama mengimpor kelas LinearRegression dari modul linear_model di scikit-learn.\n",
    "# Baris kedua membuat objek model regresi linear. Dengan membuat objek model1 dari kelas LinearRegression, kegunaan objek ini untuk melatih model pada data yang kita punya dan membuat prediksi.\n",
    "# Baris ketiga menggunakan metode .fit() untuk melatih model regresi linear.\n",
    "# terdapat  dua argumen:\n",
    "# argumen 1= x_train1: Matriks fitur (variabel independen), dalam hal ini, adalah data yang diambil dari kolom 'Study Hours(X)'.\n",
    "# argumen 2= y_train1: Array target (variabel dependen), dalam hal ini, adalah data yang diambil dari kolom 'Exam Scores(Y)'.\n",
    "\n",
    "from sklearn.linear_model import LinearRegression\n",
    "\n",
    "model1 = LinearRegression()\n",
    "\n",
    "model1.fit(x_train1, y_train1)"
   ]
  },
  {
   "cell_type": "markdown",
   "id": "53dd353f",
   "metadata": {},
   "source": [
    "### Testing"
   ]
  },
  {
   "cell_type": "code",
   "execution_count": 13,
   "id": "6966ca4a",
   "metadata": {},
   "outputs": [
    {
     "name": "stdout",
     "output_type": "stream",
     "text": [
      "Prediksi Nilai Ujian: [76.40727289 94.58905099]\n"
     ]
    }
   ],
   "source": [
    "# Baris pertama mendefinisikan data uji (x_train1_test). \n",
    "# Dalam hal ini, kita ingin membuat prediksi untuk nilai ujian pada dua tingkat studi yang berbeda: 3 jam dan 4.5 jam. \n",
    "# Menggunakan model regresi linear (model1) yang telah dilatih sebelumnya untuk membuat prediksi nilai ujian berdasarkan data uji yang baru (x_train1_test). \n",
    "# Hasil prediksi disimpan dalam variabel pred_Exam_Scores.\n",
    "# Baris ketiga mencetak hasil prediksi nilai ujian. Output ini akan menunjukkan nilai prediksi ujian untuk setiap tingkat studi \n",
    "\n",
    "x_train1_test = [[3], [4.5]]\n",
    "pred_Exam_Scores = model1.predict(x_train1_test)\n",
    "\n",
    "print(\"Prediksi Nilai Ujian:\", pred_Exam_Scores)"
   ]
  },
  {
   "cell_type": "code",
   "execution_count": 14,
   "id": "35e88549",
   "metadata": {},
   "outputs": [
    {
     "name": "stdout",
     "output_type": "stream",
     "text": [
      "koefisien:  [12.1211854]\n",
      "intercept:  40.04371669027397\n"
     ]
    }
   ],
   "source": [
    "# Rumus Regresi Linear ---> y = ax + b (a = koefisien, b = intercept)\n",
    "print(\"koefisien: \", model1.coef_)\n",
    "print(\"intercept: \", model1.intercept_)"
   ]
  },
  {
   "cell_type": "code",
   "execution_count": 15,
   "id": "075a9909",
   "metadata": {},
   "outputs": [
    {
     "name": "stdout",
     "output_type": "stream",
     "text": [
      "[185.49794148]\n"
     ]
    }
   ],
   "source": [
    "# uji coba rumus Regresi Linear\n",
    "# Dengan menggunakan nilai x=12 dan memasukkan koefisien dan intercept dari model, \n",
    "# kita dapat menghitung nilai y, \n",
    "# yang dalam konteks ini dapat dianggap sebagai prediksi nilai ujian jika jumlah jam studi adalah 12.\n",
    "\n",
    "y = model1.coef_*12 + model1.intercept_\n",
    "print(y)"
   ]
  },
  {
   "cell_type": "markdown",
   "id": "ffa2eb6f",
   "metadata": {},
   "source": [
    "### Visualisasi"
   ]
  },
  {
   "cell_type": "code",
   "execution_count": 20,
   "id": "ebc054f2",
   "metadata": {},
   "outputs": [
    {
     "data": {
      "image/png": "[encoded data removed]",
      "text/plain": [
       "<Figure size 640x480 with 1 Axes>"
      ]
     },
     "metadata": {},
     "output_type": "display_data"
    }
   ],
   "source": [
    "# Menggunakan model regresi linear (model1), kita membuat prediksi (prediksi_Nilai_Ujian) berdasarkan fitur x_train1 (diasumsikan sebagai fitur jam belajar).\n",
    "# Membuat DataFrame baru (dataframe_baru) yang berisi dua kolom, yaitu 'Study Hours (X)' yang merupakan data jam belajar asli dan 'Exam Scores (Y)' yang merupakan prediksi skor ujian berdasarkan model.\n",
    "# Membuat scatter plot menggunakan data asli. Titik-titik merah mewakili pasangan data jam belajar dan skor ujian.\n",
    "# Menambahkan garis regresi linear pada plot. Garis ini menunjukkan hubungan linier antara jam belajar dan skor ujian berdasarkan model regresi linear.\n",
    "# Menetapkan label sumbu x dan y pada plot.\n",
    "# Menetapkan judul plot.\n",
    "# Menampilkan plot secara keseluruhan.\n",
    "# Dengan menggunakan scatter plot dan garis regresi, kita dapat visualisasi bagaimana model regresi linear menyesuaikan diri dengan data.\n",
    "# Jika garis regresi cenderung mengikuti pola data dengan baik, ini menunjukkan bahwa model cukup baik dalam memodelkan hubungan antara fitur (jam belajar) dan target (skor ujian).\n",
    "\n",
    "import matplotlib.pyplot as plt\n",
    "\n",
    "prediksi_Nilai_Ujian = model1.predict(x_train1)\n",
    "dataframe_baru = pd.DataFrame({'Study Hours (X)' : data1['Study Hours (X)'], 'Exam Scores (Y)': prediksi_Nilai_Ujian })\n",
    "plt.scatter(data1['Study Hours (X)'], data1['Exam Scores (Y)'], color= 'Red')\n",
    "plt.plot(dataframe_baru['Study Hours (X)'], dataframe_baru['Exam Scores (Y)'], color='Black')\n",
    "plt.xlabel('Study Hours (X)')\n",
    "plt.ylabel('Exam Scores (Y)')\n",
    "plt.title('Plot Regresi Data Jam Belajar dan Skor Ujian')\n",
    "plt.show()"
   ]
  },
  {
   "cell_type": "markdown",
   "id": "36b705c1",
   "metadata": {},
   "source": [
    "## Naive Bayes "
   ]
  },
  {
   "cell_type": "code",
   "execution_count": null,
   "id": "19830d2a",
   "metadata": {},
   "outputs": [],
   "source": [
    "import pandas as pd"
   ]
  },
  {
   "cell_type": "code",
   "execution_count": null,
   "id": "90d1c23d",
   "metadata": {
    "scrolled": true
   },
   "outputs": [],
   "source": [
    "data2 = pd.read_csv(\"K04_bank_customers.csv\", delimiter=';')\n",
    "data2\n"
   ]
  },
  {
   "cell_type": "code",
   "execution_count": null,
   "id": "3811a56d",
   "metadata": {},
   "outputs": [],
   "source": [
    "from sklearn.preprocessing import LabelEncoder"
   ]
  },
  {
   "cell_type": "code",
   "execution_count": null,
   "id": "f9c8daff",
   "metadata": {},
   "outputs": [],
   "source": [
    "# Mengubah Value kolom yang bertipe data string/object menjadi numerik\n",
    "for col in ['job', 'marital', 'education', 'default', 'housing', 'loan', 'contact', 'month', 'poutcome', 'y']:\n",
    "    label_encoder = LabelEncoder()\n",
    "    data2[col] = label_encoder.fit_transform(data2[col])"
   ]
  },
  {
   "cell_type": "code",
   "execution_count": null,
   "id": "51f2e554",
   "metadata": {},
   "outputs": [],
   "source": [
    "# Menghapus data yang tidak diperlukan dalam hal ini saya menghapus data 'y'\n",
    "x = data2.drop('y', axis = 1)\n",
    "y = data2 ['y']"
   ]
  },
  {
   "cell_type": "code",
   "execution_count": null,
   "id": "d8681900",
   "metadata": {},
   "outputs": [],
   "source": [
    "x"
   ]
  },
  {
   "cell_type": "code",
   "execution_count": null,
   "id": "235948c2",
   "metadata": {},
   "outputs": [],
   "source": [
    "y"
   ]
  },
  {
   "cell_type": "code",
   "execution_count": null,
   "id": "1ce17160",
   "metadata": {},
   "outputs": [],
   "source": [
    "# membagi dataset menjadi subset training dan testing.(split data)\n",
    "from sklearn.model_selection import train_test_split"
   ]
  },
  {
   "cell_type": "code",
   "execution_count": null,
   "id": "2bd698e8",
   "metadata": {},
   "outputs": [],
   "source": [
    "# test_size menentukan proporsi data yang akan dialokasikan untuk data testing. \n",
    "# Dalam kasus ini, 15% dari data akan digunakan sebagai data testing, sedangkan 85% akan menjadi data training.\n",
    "# perbandingan data 85:15\n",
    "\n",
    "x_train, x_test, y_train, y_test = train_test_split(x, y, test_size=0.15)"
   ]
  },
  {
   "cell_type": "code",
   "execution_count": null,
   "id": "90d8458a",
   "metadata": {},
   "outputs": [],
   "source": [
    "# mencetak bentuk (jumlah baris, jumlah kolom) dari data training, sehingga Anda dapat melihat berapa banyak sampel yang ada dalam subset training dan berapa banyak fitur yang dimilikinya.\n",
    "x_train.shape"
   ]
  },
  {
   "cell_type": "code",
   "execution_count": null,
   "id": "949b2d09",
   "metadata": {},
   "outputs": [],
   "source": [
    "# Mencetak bentuk data testing, memberikan informasi tentang jumlah sampel dan fitur dalam subset testing.\n",
    "x_test.shape"
   ]
  },
  {
   "cell_type": "code",
   "execution_count": null,
   "id": "b506a50c",
   "metadata": {},
   "outputs": [],
   "source": [
    "# bentuk label yang sesuai dengan data training dan testing, memberikan informasi tentang jumlah sampel dalam setiap subset.\n",
    "y_train.shape"
   ]
  },
  {
   "cell_type": "code",
   "execution_count": null,
   "id": "f0d675b2",
   "metadata": {},
   "outputs": [],
   "source": [
    "# bentuk label yang sesuai dengan data training dan testing, memberikan informasi tentang jumlah sampel dalam setiap subset.\n",
    "y_test.shape"
   ]
  },
  {
   "cell_type": "markdown",
   "id": "f68fbee3",
   "metadata": {},
   "source": [
    "### Modeling dari Naive Bayes"
   ]
  },
  {
   "cell_type": "code",
   "execution_count": null,
   "id": "26418baa",
   "metadata": {},
   "outputs": [],
   "source": [
    "# Ini merupakan tahap pelatihan model, di mana model Naive Bayes menggunakan data latih (x_train untuk fitur dan y_train untuk target) untuk belajar pola dan relasi di dalam data.\n",
    "\n",
    "from sklearn.naive_bayes import GaussianNB\n",
    "modelNB = GaussianNB()\n",
    "modelNB.fit(x_train, y_train)"
   ]
  },
  {
   "cell_type": "code",
   "execution_count": null,
   "id": "27c3b1f7",
   "metadata": {},
   "outputs": [],
   "source": [
    "# Testing Model untuk melakukan prediksi\n",
    "hasil_prediksi = modelNB.predict(x_test)"
   ]
  },
  {
   "cell_type": "code",
   "execution_count": null,
   "id": "f811796a",
   "metadata": {},
   "outputs": [],
   "source": [
    "# Cek Keakuratan hasil prediksi\n",
    "from sklearn.metrics import accuracy_score\n",
    "print('Akurasi Model: ', accuracy_score(y_test, hasil_prediksi)*100)"
   ]
  }
 ],
 "metadata": {
  "kernelspec": {
   "display_name": "Python 3 (ipykernel)",
   "language": "python",
   "name": "python3"
  },
  "language_info": {
   "codemirror_mode": {
    "name": "ipython",
    "version": 3
   },
   "file_extension": ".py",
   "mimetype": "text/x-python",
   "name": "python",
   "nbconvert_exporter": "python",
   "pygments_lexer": "ipython3",
   "version": "3.10.9"
  }
 },
 "nbformat": 4,
 "nbformat_minor": 5
}
